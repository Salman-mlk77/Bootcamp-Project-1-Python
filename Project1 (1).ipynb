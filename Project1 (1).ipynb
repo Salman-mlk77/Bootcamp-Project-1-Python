{
 "cells": [
  {
   "cell_type": "code",
   "execution_count": 5,
   "id": "bdfd1860",
   "metadata": {},
   "outputs": [
    {
     "name": "stdout",
     "output_type": "stream",
     "text": [
      "Welcome to the Cinema Booking System!\n",
      "Our available movies:\n",
      "• Joker - SAR50\n",
      "• The Godfather - SAR40\n",
      "• Parasite - SAR45\n",
      "• John Wick - SAR35\n",
      "• Forrest Gump - SAR30\n",
      "Please enter the movie name you want to book tickets for (or 'exit' to quit): Joker\n",
      "Please enter the number of tickets you want to book: 2\n",
      "Booked 2 ticket(s) for the movie Joker\n",
      "Total cost: SAR100\n",
      "Total cost including tax: SAR115.0\n",
      "Please enter the movie name you want to book tickets for (or 'exit' to quit): exit\n",
      "Thank you! See you next time.\n"
     ]
    }
   ],
   "source": [
    "# List of movies and ticket prices, Here I used dictionary to store the Movies and ticket price\n",
    "# Here I used String and Integer data type \n",
    "movies = {\n",
    "    \"Joker\": 50,\n",
    "    \"The Godfather\": 40,\n",
    "    \"Parasite\": 45,\n",
    "    \"John Wick\": 35,\n",
    "    \"Forrest Gump\": 30\n",
    "}\n",
    "# Here I used lambda function to calculate the tax\n",
    "# Here I used tax as a float data type\n",
    "tax = lambda amount: amount * 0.15\n",
    "\n",
    "# Here i used display_movies() function to display the movies to user\n",
    "def display_movies():\n",
    "    print(\"Our available movies:\")\n",
    "    for movie, price in movies.items():\n",
    "        print(\"• \" + movie + \" - SAR\" + str(price))\n",
    "'''\n",
    "Here, I used book_tickets function \n",
    "and passed the movie and the number of tickets to it. \n",
    "Then, I created a for loop. If the movie exists, give me the movie price \n",
    "and calculate the number of tickets. After that, add the tax value\n",
    "'''\n",
    "def book_tickets(movie, num_tickets):\n",
    "    if movie in movies:\n",
    "        price = movies[movie]\n",
    "        total_cost = price * num_tickets\n",
    "        total_cost_with_tax = total_cost + tax(total_cost)\n",
    "        print(\"Booked\", num_tickets, \"ticket(s) for the movie\", movie)\n",
    "        print(\"Total cost: SAR\" + str(total_cost))\n",
    "        print(\"Total cost including tax: SAR\" + str(total_cost_with_tax))\n",
    "    else:\n",
    "        print(\"Sorry, the movie is not available.\")\n",
    "\n",
    "# Main program\n",
    "# Here I printed this message to user and called display_movies()\n",
    "print(\"Welcome to the Cinema Booking System!\")\n",
    "display_movies()\n",
    "\n",
    "while True:\n",
    "    movie = input(\"Please enter the movie name you want to book tickets for (or 'exit' to quit): \")\n",
    "    \n",
    "    '''Here i used title() function to capitalize the first letter of the movie name entered by the user\n",
    "     to allowing them the freedom to write it in any case '''\n",
    "    movie_capital = movie.title() \n",
    "    if movie_capital.lower() == \"exit\":\n",
    "        print(\"Thank you! See you next time.\")\n",
    "        break\n",
    "    if movie_capital in movies:\n",
    "        num_tickets = int(input(\"Please enter the number of tickets you want to book: \"))\n",
    "        book_tickets(movie_capital, num_tickets)\n",
    "    else:\n",
    "        print(\"Sorry, the movie is not available.\")"
   ]
  }
 ],
 "metadata": {
  "kernelspec": {
   "display_name": "Python 3 (ipykernel)",
   "language": "python",
   "name": "python3"
  },
  "language_info": {
   "codemirror_mode": {
    "name": "ipython",
    "version": 3
   },
   "file_extension": ".py",
   "mimetype": "text/x-python",
   "name": "python",
   "nbconvert_exporter": "python",
   "pygments_lexer": "ipython3",
   "version": "3.9.7"
  }
 },
 "nbformat": 4,
 "nbformat_minor": 5
}
